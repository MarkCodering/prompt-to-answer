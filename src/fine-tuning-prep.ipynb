{
 "cells": [
  {
   "cell_type": "code",
   "execution_count": 12,
   "metadata": {},
   "outputs": [
    {
     "name": "stdout",
     "output_type": "stream",
     "text": [
      "1\n"
     ]
    }
   ],
   "source": [
    "# Open the file under /outputs/algebra\n",
    "# Turn the files into jsonl format\n",
    "\n",
    "import os\n",
    "import json\n",
    "\n",
    "num_files = 0\n",
    "\n",
    "num_files = len(os.listdir(\"../outputs/algebra\"))\n",
    "print(num_files)\n",
    "\n",
    "for i in range(num_files):\n",
    "    # Convert the file to jsonl format\n",
    "    with open(f\"../outputs/algebra/{i}.json\", \"r\") as json_file:\n",
    "        # Load the data from the JSON file\n",
    "        data = json.load(json_file)\n",
    "\n",
    "    with open(f\"../outputs/algebra/fine-tune-{i}.jsonl\", \"w\") as jsonl_file:\n",
    "        # If the data is a list of records, write each record on a new line\n",
    "        if isinstance(data, list):\n",
    "            for record in data:\n",
    "                jsonl_file.write(json.dumps(record) + \"\\n\")\n",
    "        else:\n",
    "            # If the data is a single record, just write it to the file\n",
    "            jsonl_file.write(json.dumps(data) + \"\\n\")"
   ]
  }
 ],
 "metadata": {
  "kernelspec": {
   "display_name": "Python 3",
   "language": "python",
   "name": "python3"
  },
  "language_info": {
   "codemirror_mode": {
    "name": "ipython",
    "version": 3
   },
   "file_extension": ".py",
   "mimetype": "text/x-python",
   "name": "python",
   "nbconvert_exporter": "python",
   "pygments_lexer": "ipython3",
   "version": "3.9.6"
  }
 },
 "nbformat": 4,
 "nbformat_minor": 2
}
